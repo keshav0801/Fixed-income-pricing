{
 "cells": [
  {
   "cell_type": "code",
   "execution_count": 12,
   "metadata": {},
   "outputs": [],
   "source": [
    "import numpy as np\n",
    "import pandas as pd\n",
    "from scipy.optimize import minimize\n",
    "\n",
    "np.set_printoptions(linewidth=np.inf)"
   ]
  },
  {
   "cell_type": "code",
   "execution_count": 26,
   "metadata": {},
   "outputs": [],
   "source": [
    "# Function to build BDT term structure using binomial lattice and annual compounding\n",
    "def build_BDT_term_structure(rates, volatility, num_steps):\n",
    "    term_structure = np.zeros((num_steps + 1, num_steps + 1))\n",
    "    term_structure[0, 0] = rates[0]\n",
    "\n",
    "    for i in range(1, num_steps + 1):\n",
    "        for j in range(i + 1):\n",
    "            term_structure[j, i] = rates[i] * np.exp(volatility * (i-j))\n",
    "    return term_structure\n",
    "\n",
    "def elementary_prices_lattice(rates, volatility, Maturity, q = 0.5):\n",
    "    term_structure = build_BDT_term_structure(rates, volatility, Maturity-1)\n",
    "    n = Maturity\n",
    "    elementary = np.zeros((n+1, n+1))\n",
    "    elementary[0,0] = 1\n",
    "    for i in range(1, n+1):\n",
    "        elementary[0,i] = q * elementary[0,i-1] / (1 + term_structure[0,i-1])\n",
    "        elementary[i,i] = (1-q) * elementary[i-1,i-1] / (1 + term_structure[i-1,i-1])\n",
    "        for j in range(1, i):\n",
    "            elementary[j,i] = q * elementary[j,i-1] / (1 + term_structure[j,i-1]) + (1-q) * elementary[j-1,i-1] / (1 + term_structure[j-1,i-1])\n",
    "\n",
    "    return elementary\n",
    "\n",
    "# Function to calculate bond price using BDT model considering volatilities and annual compounding\n",
    "def bond_prices_BDT(rates, volatility, maturity, face_value=100):\n",
    "    elementary = elementary_prices_lattice(rates, volatility, maturity)\n",
    "    bond_prices = np.sum(elementary, axis = 0) * face_value\n",
    "    return bond_prices[1:]\n",
    "\n",
    "# Objective function to minimize\n",
    "def objective_function(params, spot_rates, maturities, volatility):\n",
    "    rates = params\n",
    "    model_prices = bond_prices_BDT(rates, volatility, max(maturities))\n",
    "    model_spot_rates = [(100 / price)**(1 / maturity) - 1 for price, maturity in zip(model_prices, maturities)]\n",
    "    return np.sum((np.array(model_spot_rates)*100 - np.array(spot_rates))**2)\n"
   ]
  },
  {
   "cell_type": "code",
   "execution_count": 27,
   "metadata": {},
   "outputs": [
    {
     "name": "stdout",
     "output_type": "stream",
     "text": [
      "Optimized Rates: [0.07299999 0.07921106 0.0902117  0.09435721 0.12130235 0.1171925  0.12850179 0.12565973 0.1291854  0.15195073 0.14536472 0.15636182 0.15153981 0.13447894]\n",
      "Updated Term Structure:\n",
      "[[0.07299999 0.0796081  0.09111835 0.09578323 0.12375282 0.12015924 0.13241525 0.13013569 0.13445756 0.1589447  0.15281773 0.16520261 0.16091051 0.14351041]\n",
      " [0.         0.07921106 0.09066389 0.09530551 0.1231356  0.11955995 0.13175483 0.12948664 0.13378695 0.15815196 0.15205554 0.16437866 0.16010796 0.14279465]\n",
      " [0.         0.         0.0902117  0.09483017 0.12252146 0.11896364 0.1310977  0.12884082 0.13311968 0.15736317 0.15129716 0.16355882 0.15930942 0.14208246]\n",
      " [0.         0.         0.         0.09435721 0.12191038 0.11837031 0.13044385 0.12819822 0.13245575 0.15657832 0.15054257 0.16274307 0.15851486 0.14137382]\n",
      " [0.         0.         0.         0.         0.12130235 0.11777993 0.12979326 0.12755883 0.13179512 0.15579738 0.14979173 0.16193138 0.15772427 0.14066871]\n",
      " [0.         0.         0.         0.         0.         0.1171925  0.12914591 0.12692263 0.13113779 0.15502034 0.14904464 0.16112375 0.15693761 0.13996713]\n",
      " [0.         0.         0.         0.         0.         0.         0.12850179 0.1262896  0.13048374 0.15424717 0.14830128 0.16032014 0.15615488 0.13926904]\n",
      " [0.         0.         0.         0.         0.         0.         0.         0.12565973 0.12983295 0.15347786 0.14756162 0.15952054 0.15537606 0.13857443]\n",
      " [0.         0.         0.         0.         0.         0.         0.         0.         0.1291854  0.15271239 0.14682566 0.15872493 0.15460112 0.13788329]\n",
      " [0.         0.         0.         0.         0.         0.         0.         0.         0.         0.15195073 0.14609336 0.15793328 0.15383004 0.13719559]\n",
      " [0.         0.         0.         0.         0.         0.         0.         0.         0.         0.         0.14536472 0.15714559 0.15306281 0.13651132]\n",
      " [0.         0.         0.         0.         0.         0.         0.         0.         0.         0.         0.         0.15636182 0.1522994  0.13583047]\n",
      " [0.         0.         0.         0.         0.         0.         0.         0.         0.         0.         0.         0.         0.15153981 0.13515301]\n",
      " [0.         0.         0.         0.         0.         0.         0.         0.         0.         0.         0.         0.         0.         0.13447894]]\n",
      "Bond Prices:\n",
      "[93.19664557 86.34039431 79.16312345 72.29059144 64.40013998 57.56862303 50.92565036 45.15171404 39.89389021 34.52797392 30.04932238 25.88854154 22.39199886 19.66077708]\n"
     ]
    }
   ],
   "source": [
    "\n",
    "# Market data\n",
    "spot_rates = [7.3, 7.62, 8.1, 8.45, 9.2, 9.64, 10.12, 10.45, 10.75, 11.22, 11.55, 11.92, 12.2, 12.32]\n",
    "maturities = list(range(1, 15)) # 1 to 14 years\n",
    "\n",
    "# Assumed Volatility\n",
    "volatility = 0.005\n",
    "\n",
    "# Initial guess for parameteres\n",
    "initial_guess = np.array([0.05] * 14)\n",
    "\n",
    "# Minimize the objective function\n",
    "result = minimize(objective_function, initial_guess, args=(spot_rates, maturities, volatility), method='BFGS')\n",
    "\n",
    "# Extract the optimized parameteres\n",
    "optimized_rates = result.x\n",
    "\n",
    "# Optimal Interest rate term structure\n",
    "\n",
    "\n",
    "# Display the results\n",
    "print(\"Optimized Rates:\", optimized_rates)\n",
    "\n",
    "# updated term structure based on optimized rates\n",
    "updated_term_structure = build_BDT_term_structure(optimized_rates, volatility, 13)\n",
    "print(\"Updated Term Structure:\")\n",
    "print(updated_term_structure)\n",
    "\n",
    "print(\"Bond Prices:\")\n",
    "print(bond_prices_BDT(optimized_rates, volatility, 14))"
   ]
  },
  {
   "cell_type": "code",
   "execution_count": null,
   "metadata": {},
   "outputs": [],
   "source": []
  },
  {
   "cell_type": "code",
   "execution_count": 21,
   "metadata": {},
   "outputs": [
    {
     "name": "stdout",
     "output_type": "stream",
     "text": [
      "[[1.00000000e+00 4.76190476e-01 2.26703257e-01 1.07902292e-01 5.13450925e-02 2.44265465e-02 1.16176839e-02 5.52421911e-03 2.62612615e-03 1.24811072e-03 5.93038616e-04 2.81711547e-04 1.33788143e-04 6.35215942e-05 3.01519508e-05]\n",
      " [0.00000000e+00 4.76190476e-01 4.53460627e-01 3.23784395e-01 2.05454384e-01 1.22191609e-01 6.97482446e-02 3.86976789e-02 2.10269072e-02 1.12439689e-02 5.93692439e-03 3.10263549e-03 1.60763524e-03 8.27006572e-04 4.22808389e-04]\n",
      " [0.00000000e+00 0.00000000e+00 2.26757370e-01 3.23861803e-01 3.08292396e-01 2.44500740e-01 1.74475755e-01 1.16177305e-01 7.36566974e-02 4.50196839e-02 2.67455295e-02 1.55321877e-02 8.85395122e-03 4.96938360e-03 2.75267544e-03]\n",
      " [0.00000000e+00 0.00000000e+00 0.00000000e+00 1.07979700e-01 2.05602008e-01 2.44618033e-01 2.32774251e-01 1.93769013e-01 1.47438198e-01 1.05147958e-01 7.13995922e-02 4.66534975e-02 2.95529652e-02 1.82479618e-02 1.10283610e-02]\n",
      " [0.00000000e+00 0.00000000e+00 0.00000000e+00 0.00000000e+00 5.14189047e-02 1.22367547e-01 1.74685412e-01 1.93908906e-01 1.84453451e-01 1.57874696e-01 1.25085858e-01 9.34206715e-02 6.65835668e-02 4.56870256e-02 3.03764885e-02]\n",
      " [0.00000000e+00 0.00000000e+00 0.00000000e+00 0.00000000e+00 0.00000000e+00 2.44851927e-02 6.99159709e-02 1.16429113e-01 1.47687083e-01 1.58027170e-01 1.50266623e-01 1.30947818e-01 1.06676510e-01 8.23572837e-02 6.08498339e-02]\n",
      " [0.00000000e+00 0.00000000e+00 0.00000000e+00 0.00000000e+00 0.00000000e+00 0.00000000e+00 1.16596156e-02 3.88375724e-02 7.39055828e-02 1.05452907e-01 1.25358271e-01 1.31106426e-01 1.24622266e-01 1.09970321e-01 9.14198338e-02]\n",
      " [0.00000000e+00 0.00000000e+00 0.00000000e+00 0.00000000e+00 0.00000000e+00 0.00000000e+00 0.00000000e+00 5.55219789e-03 2.11335725e-02 4.52375045e-02 7.17109214e-02 9.37605459e-02 1.06961432e-01 1.10130689e-01 1.04645388e-01]\n",
      " [0.00000000e+00 0.00000000e+00 0.00000000e+00 0.00000000e+00 0.00000000e+00 0.00000000e+00 0.00000000e+00 0.00000000e+00 2.64390376e-03 1.13202062e-02 2.69206523e-02 4.69367263e-02 6.69397188e-02 8.27181115e-02 9.17093919e-02]\n",
      " [0.00000000e+00 0.00000000e+00 0.00000000e+00 0.00000000e+00 0.00000000e+00 0.00000000e+00 0.00000000e+00 0.00000000e+00 0.00000000e+00 1.25900179e-03 5.98881268e-03 1.56643611e-02 2.97903999e-02 4.60211252e-02 6.12359110e-02]\n",
      " [0.00000000e+00 0.00000000e+00 0.00000000e+00 0.00000000e+00 0.00000000e+00 0.00000000e+00 0.00000000e+00 0.00000000e+00 0.00000000e+00 0.00000000e+00 5.99524662e-04 3.13662296e-03 8.94892501e-03 1.84350573e-02 3.06660460e-02]\n",
      " [0.00000000e+00 0.00000000e+00 0.00000000e+00 0.00000000e+00 0.00000000e+00 0.00000000e+00 0.00000000e+00 0.00000000e+00 0.00000000e+00 0.00000000e+00 0.00000000e+00 2.85487934e-04 1.62922018e-03 5.03498842e-03 1.11687522e-02]\n",
      " [0.00000000e+00 0.00000000e+00 0.00000000e+00 0.00000000e+00 0.00000000e+00 0.00000000e+00 0.00000000e+00 0.00000000e+00 0.00000000e+00 0.00000000e+00 0.00000000e+00 0.00000000e+00 1.35946635e-04 8.40370491e-04 2.79654756e-03]\n",
      " [0.00000000e+00 0.00000000e+00 0.00000000e+00 0.00000000e+00 0.00000000e+00 0.00000000e+00 0.00000000e+00 0.00000000e+00 0.00000000e+00 0.00000000e+00 0.00000000e+00 0.00000000e+00 0.00000000e+00 6.47364930e-05 4.30907830e-04]\n",
      " [0.00000000e+00 0.00000000e+00 0.00000000e+00 0.00000000e+00 0.00000000e+00 0.00000000e+00 0.00000000e+00 0.00000000e+00 0.00000000e+00 0.00000000e+00 0.00000000e+00 0.00000000e+00 0.00000000e+00 0.00000000e+00 3.08269014e-05]]\n"
     ]
    },
    {
     "data": {
      "text/plain": [
       "array([95.23809524, 90.69212542, 86.35281897, 82.21127853, 78.25896685, 74.48769325, 70.88960053, 67.45715227, 64.18312069, 61.06057481, 58.08286912, 55.24363261, 52.53675817, 49.95639242])"
      ]
     },
     "execution_count": 21,
     "metadata": {},
     "output_type": "execute_result"
    }
   ],
   "source": [
    "\n",
    "# Assumed Volatility\n",
    "volatility = 0.005\n",
    "\n",
    "# Initial guess for parameteres\n",
    "initial_guess = np.array([0.05] * 14)\n",
    "\n",
    "# build_BDT_term_structure(initial_guess, volatility, 13)\n",
    "\n",
    "elementray_prices = elementary_prices_lattice(initial_guess, volatility, 14)\n",
    "print(elementray_prices)\n",
    "\n",
    "bond_prices_BDT(initial_guess, volatility, 14)"
   ]
  }
 ],
 "metadata": {
  "kernelspec": {
   "display_name": "Python 3",
   "language": "python",
   "name": "python3"
  },
  "language_info": {
   "codemirror_mode": {
    "name": "ipython",
    "version": 3
   },
   "file_extension": ".py",
   "mimetype": "text/x-python",
   "name": "python",
   "nbconvert_exporter": "python",
   "pygments_lexer": "ipython3",
   "version": "3.13.2"
  }
 },
 "nbformat": 4,
 "nbformat_minor": 2
}
