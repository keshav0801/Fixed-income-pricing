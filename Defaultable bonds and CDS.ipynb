{
 "cells": [
  {
   "cell_type": "markdown",
   "metadata": {},
   "source": [
    "# Pricing Defaultable Bonds and CDS\n",
    "This notebook provides an interactive approach to pricing Defaultable Bonds and Credit Default Swaps (CDS) using the Hazard rate model."
   ]
  },
  {
   "cell_type": "code",
   "execution_count": 2,
   "metadata": {},
   "outputs": [],
   "source": [
    "import numpy as np\n",
    "import matplotlib.pyplot as plt\n",
    "from scipy.optimize import minimize"
   ]
  },
  {
   "cell_type": "markdown",
   "metadata": {},
   "source": [
    "## Hazard Rate Model\n",
    "The hazard rate, also known as the default intensity, is the instantaneous rate of default at any given time. It is denoted by $ \\lambda(t) $."
   ]
  },
  {
   "cell_type": "code",
   "execution_count": 3,
   "metadata": {},
   "outputs": [],
   "source": [
    "# Define the hazard rate function\n",
    "def hazard_rate(t, lambda_0, lambda_1):\n",
    "    return lambda_0 + lambda_1 * t"
   ]
  },
  {
   "cell_type": "markdown",
   "metadata": {},
   "source": [
    "However, here we will calibrate the hazard rate based on the market data of CDS prices"
   ]
  },
  {
   "cell_type": "markdown",
   "metadata": {},
   "source": [
    "## Survival Probability\n",
    "The survival probability is the probability that the entity has not defaulted by time $ t $. It is given by:\n",
    "$$\n",
    "S(t) = e^{-\\int_0^t \\lambda(u) du}\n",
    "$$\n",
    "\n",
    "In discrete time frame:\n",
    "$$\n",
    "S(t) = (1-h(t))*S(t-1)\n",
    "$$"
   ]
  },
  {
   "cell_type": "code",
   "execution_count": 6,
   "metadata": {},
   "outputs": [],
   "source": [
    "# Define the survival probability function\n",
    "def survival_probability(t, hazard_rate_params):\n",
    "    if t == 0:\n",
    "        return 1\n",
    "    else:\n",
    "        return (1 - hazard_rate_params[t-1]) * survival_probability(t-1, hazard_rate_params)"
   ]
  },
  {
   "cell_type": "markdown",
   "metadata": {},
   "source": [
    "## Pricing Defaultable Bonds\n",
    "The price of a defaultable bond can be calculated by discounting the expected cash flows, taking into account the survival probability."
   ]
  },
  {
   "cell_type": "code",
   "execution_count": null,
   "metadata": {},
   "outputs": [],
   "source": [
    "# Define the bond pricing function\n",
    "def price_defaultable_bond(face_value, coupon_rate, maturity, compounding_periods_per_annum, discount_rate, recovery_rate, hazard_rates):\n",
    "    price = 0\n",
    "    recovery = recovery_rate * face_value\n",
    "    hazard_rate_params = np.repeat(hazard_rates / compounding_periods_per_annum, compounding_periods_per_annum)\n",
    "    for t in range(1, maturity * compounding_periods_per_annum + 1):\n",
    "        coupon = face_value * coupon_rate\n",
    "        survival_prob = survival_probability(t, hazard_rate_params)\n",
    "        default_prob = hazard_rate_params[t-1] * survival_probability(t - 1, hazard_rate_params)\n",
    "        price += (recovery * default_prob + coupon * survival_prob) / (1 + discount_rate / compounding_periods_per_annum) ** t\n",
    "    # Add the face value discounted by the survival probability at maturity\n",
    "    price += (face_value * survival_prob) / (1 + discount_rate / compounding_periods_per_annum) ** (maturity * compounding_periods_per_annum)\n",
    "    return price"
   ]
  },
  {
   "cell_type": "markdown",
   "metadata": {},
   "source": [
    "Example of Defaultable bond pricing"
   ]
  },
  {
   "cell_type": "code",
   "execution_count": 15,
   "metadata": {},
   "outputs": [
    {
     "name": "stdout",
     "output_type": "stream",
     "text": [
      "The price of the defaultable bond is: 101.14503271861987\n"
     ]
    }
   ],
   "source": [
    "# Assuming a constant Hazard rate\n",
    "\n",
    "face_value = 100\n",
    "coupon_rate = 0.05\n",
    "maturity = 1\n",
    "compounding_periods_per_annum = 2\n",
    "hazard_rates_annual = np.array([0.04] * maturity)\n",
    "discount_rate = 0.05\n",
    "recovery_rate = 0.1\n",
    "price = price_defaultable_bond(face_value, coupon_rate, maturity, compounding_periods_per_annum, discount_rate, recovery_rate, hazard_rates_annual)\n",
    "print(f\"The price of the defaultable bond is: {price}\") "
   ]
  },
  {
   "cell_type": "markdown",
   "metadata": {},
   "source": [
    "## Pricing Credit Default Swaps (CDS)\n",
    "A CDS is a financial derivative that provides protection against the default of a reference entity. The pricing involves calculating the premium leg and the protection leg."
   ]
  },
  {
   "cell_type": "code",
   "execution_count": 22,
   "metadata": {},
   "outputs": [],
   "source": [
    "# Define the CDS pricing function\n",
    "def price_cds(notional, spread_basis, maturity, compounding_periods_per_annum, discount_rate, recovery_rate, hazard_rates):\n",
    "    premium_leg = 0\n",
    "    protection_leg = 0\n",
    "    hazard_rate_params = np.repeat(hazard_rates / compounding_periods_per_annum, compounding_periods_per_annum)\n",
    "    for t in range(1, maturity * compounding_periods_per_annum + 1):\n",
    "        survival_prob = survival_probability(t, hazard_rate_params)\n",
    "        default_prob = hazard_rate_params[t-1] * survival_probability(t - 1, hazard_rate_params)\n",
    "        premium_leg += 0.0001 * (spread_basis/compounding_periods_per_annum) * notional * survival_prob / (1 + discount_rate/compounding_periods_per_annum) ** t\n",
    "        interest_compounded = 0.0001 * (1/2) * notional * (spread_basis/compounding_periods_per_annum) / (1 + discount_rate/compounding_periods_per_annum) ** t   # Assuming the default happens in the middle of a period\n",
    "        premium_leg += interest_compounded * default_prob\n",
    "        protection_leg += notional*(1-recovery_rate) * default_prob / (1 + discount_rate/compounding_periods_per_annum) ** t\n",
    "    return protection_leg - premium_leg"
   ]
  },
  {
   "cell_type": "markdown",
   "metadata": {},
   "source": [
    "## Example Usage\n",
    "Let's calculate the price of a CDS with the following parameters:"
   ]
  },
  {
   "cell_type": "code",
   "execution_count": 28,
   "metadata": {},
   "outputs": [
    {
     "name": "stdout",
     "output_type": "stream",
     "text": [
      "The price of the CDS is: -3.821551217697561e-07\n"
     ]
    }
   ],
   "source": [
    "# Parameters\n",
    "\n",
    "\n",
    "maturity = 2\n",
    "discount_rate = 0.01\n",
    "notional = 1000000\n",
    "spread = 218.88953946553\n",
    "periods = 4\n",
    "recovery_rate = 0.45\n",
    "hazard_rates_annual = np.array([0.040281146080,0.038886206677])\n",
    "\n",
    "price = price_cds(notional, spread, maturity, periods, discount_rate, recovery_rate, hazard_rates_annual)\n",
    "print(f\"The price of the CDS is: {price}\")"
   ]
  },
  {
   "cell_type": "code",
   "execution_count": 32,
   "metadata": {},
   "outputs": [
    {
     "name": "stdout",
     "output_type": "stream",
     "text": [
      "The price of the CDS is: 4.656612873077393e-10\n"
     ]
    }
   ],
   "source": [
    "# Parameters\n",
    "\n",
    "\n",
    "maturity = 5\n",
    "discount_rate = 0.05\n",
    "notional = 10000000\n",
    "spread = 301.507537688442\n",
    "periods = 4\n",
    "recovery_rate = 0.25\n",
    "hazard_rates_annual = np.array([0.04] * maturity)\n",
    "\n",
    "price = price_cds(notional, spread, maturity, periods, discount_rate, recovery_rate, hazard_rates_annual)\n",
    "print(f\"The price of the CDS is: {price}\")"
   ]
  },
  {
   "cell_type": "code",
   "execution_count": 34,
   "metadata": {},
   "outputs": [
    {
     "name": "stdout",
     "output_type": "stream",
     "text": [
      "Optimal hazard rates: [0.05263157]\n",
      "Optimal CDS spread: 301.50753768518763\n"
     ]
    }
   ],
   "source": [
    "from scipy.optimize import minimize\n",
    "\n",
    "# Objective function for hazard rate optimization\n",
    "def hazard_rate_objective(hazard_rates_annual, face_value, coupon_rate, maturity, compounding_periods_per_annum, discount_rate, recovery_rate, target_price):\n",
    "    price = price_defaultable_bond(face_value, coupon_rate, maturity, compounding_periods_per_annum, discount_rate, recovery_rate, hazard_rates_annual)\n",
    "    return (price - target_price)**2  # We want the price to be as close to the target price as possible\n",
    "\n",
    "# Target price for the defaultable bond\n",
    "target_price = 100\n",
    "\n",
    "# parameters\n",
    "face_value = 100\n",
    "coupon_rate = 0.05\n",
    "maturity = 1\n",
    "compounding_periods_per_annum = 2\n",
    "discount_rate = 0.05\n",
    "recovery_rate = 0.1\n",
    "\n",
    "# Initial guess for the hazard rates\n",
    "initial_hazard_rates = np.array([0.04] * maturity)\n",
    "\n",
    "# Perform the optimization for hazard rates\n",
    "result_hazard_rates = minimize(hazard_rate_objective, initial_hazard_rates, args=(face_value, coupon_rate, maturity, compounding_periods_per_annum, discount_rate, recovery_rate, target_price))\n",
    "optimal_hazard_rates = result_hazard_rates.x\n",
    "print(f\"Optimal hazard rates: {optimal_hazard_rates}\")\n",
    "\n",
    "# Objective function for CDS spread optimization\n",
    "def cds_spread_objective(spread, notional, maturity, periods, discount_rate, recovery_rate, hazard_rates_annual):\n",
    "    price = price_cds(notional, spread, maturity, periods, discount_rate, recovery_rate, hazard_rates_annual)\n",
    "    return abs(price)  # We want the price to be as close to 0 as possible\n",
    "\n",
    "# Parameters\n",
    "\n",
    "maturity = 5\n",
    "discount_rate = 0.05\n",
    "notional = 10000000\n",
    "periods = 4\n",
    "recovery_rate = 0.25\n",
    "hazard_rates_annual = np.array([0.04] * maturity)\n",
    "\n",
    "\n",
    "# Initial guess for the spread\n",
    "initial_spread = 200\n",
    "\n",
    "# Perform the optimization for CDS spread\n",
    "result_spread = minimize(cds_spread_objective, initial_spread, args=(notional, maturity, periods, discount_rate, recovery_rate, hazard_rates_annual))\n",
    "optimal_spread = result_spread.x[0]\n",
    "print(f\"Optimal CDS spread: {optimal_spread}\")\n",
    "\n"
   ]
  }
 ],
 "metadata": {
  "kernelspec": {
   "display_name": "Python 3",
   "language": "python",
   "name": "python3"
  },
  "language_info": {
   "codemirror_mode": {
    "name": "ipython",
    "version": 3
   },
   "file_extension": ".py",
   "mimetype": "text/x-python",
   "name": "python",
   "nbconvert_exporter": "python",
   "pygments_lexer": "ipython3",
   "version": "3.13.2"
  }
 },
 "nbformat": 4,
 "nbformat_minor": 4
}
