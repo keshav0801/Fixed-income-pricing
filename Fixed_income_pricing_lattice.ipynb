{
 "cells": [
  {
   "cell_type": "code",
   "execution_count": 2,
   "metadata": {},
   "outputs": [],
   "source": [
    "import pandas as pd\n",
    "import numpy as np\n",
    "import matplotlib.pyplot as plt\n",
    "import seaborn as sns\n"
   ]
  },
  {
   "cell_type": "markdown",
   "metadata": {},
   "source": [
    "## Functions to build the tree"
   ]
  },
  {
   "cell_type": "code",
   "execution_count": 51,
   "metadata": {},
   "outputs": [],
   "source": [
    "# Function to build a binomial tree for ZCB option prices\n",
    "def build_option_tree(FaceValue, StrikePrice, ExpiryDate, ZCBMaturity, r0, u, d, option_type='call', redemption_type = \"European\", q = None, RiskfreeRate = None): # default is a european call option\n",
    "    option_tree = np.zeros((ExpiryDate+1, ExpiryDate+1))\n",
    "    if RiskfreeRate is not None and q is None:\n",
    "        q = (r - d) / (u - d)\n",
    "    elif RiskfreeRate is None and q is None:\n",
    "        q = 0.5\n",
    "    ZCB_structure = FaceValue * ZCB_term_structure(r0, u, d, ZCBMaturity, q)\n",
    "    term_structure = build_term_structure(r0, u, d, ExpiryDate)\n",
    "    n=ExpiryDate\n",
    "    for j in range(n+1):\n",
    "        if option_type == 'call':\n",
    "            option_tree[j, n] = max(0, ZCB_structure[j, n] - StrikePrice)\n",
    "        elif option_type == 'put':\n",
    "            option_tree[j, n] = max(0, StrikePrice - ZCB_structure[j, n])\n",
    "    for i in range(n-1, -1, -1):\n",
    "        for j in range(i+1):\n",
    "            if redemption_type == \"European\":\n",
    "                option_tree[j, i] = (1/(1+term_structure[j, i])) * (q * option_tree[j, i+1] + (1-q) * option_tree[j+1, i+1])\n",
    "            elif redemption_type == \"American\":\n",
    "                if option_type == 'call':\n",
    "                    option_tree[j, i] = max(ZCB_structure[j, i] - StrikePrice, (1/(1+term_structure[j, i])) * (q * option_tree[j, i+1] + (1-q) * option_tree[j+1, i+1]))\n",
    "                elif option_type == 'put':\n",
    "                    option_tree[j, i] = max(StrikePrice - ZCB_structure[j, i], (1/(1+term_structure[j, i])) * (q * option_tree[j, i+1] + (1-q) * option_tree[j+1, i+1]))\n",
    "    return option_tree\n",
    "\n",
    "# Function to build the term structure of interest rates\n",
    "def build_term_structure(r0, u, d, n):\n",
    "    term_structure = np.zeros((n+1, n+1))\n",
    "    for i in range(n+1):\n",
    "        for j in range(i+1):\n",
    "            term_structure[j, i] = r0 * (u ** (i-j)) * (d ** j)\n",
    "    return term_structure\n",
    "\n",
    "def ZCB_term_structure(r0, u, d, TimetoMaturity, q = None, RiskfreeRate = None):\n",
    "    n = TimetoMaturity\n",
    "    term_structure = build_term_structure(r0, u, d, n-1)\n",
    "    ZCB = np.zeros((n+1, n+1))\n",
    "\n",
    "    if RiskfreeRate is not None and q is None:\n",
    "        q = (r - d) / (u - d)\n",
    "    elif RiskfreeRate is None and q is None:\n",
    "        q = 0.5\n",
    "        \n",
    "    # Set the bond value at last i for all j as 1\n",
    "    ZCB[:, n] = 1\n",
    "\n",
    "    # Discount the values based on risk neutral probabilities q and 1-q and the term-structure at that node\n",
    "    for i in range(n-1, -1, -1):\n",
    "        for j in range(i+1):\n",
    "            ZCB[j, i] = (q * ZCB[j, i+1] + (1-q) * ZCB[j+1, i+1]) / (1 + term_structure[j, i])\n",
    "    \n",
    "    return ZCB\n",
    "\n",
    "def coupon_bond_term_structure(r0, u, d, TimetoMaturity, FaceValue, couponRate = 0, q = 0.5, RiskfreeRate = None):\n",
    "    term_structure = build_term_structure(r0, u, d, TimetoMaturity-1)\n",
    "    coupon_ts = np.zeros((TimetoMaturity+1, TimetoMaturity+1))\n",
    "    if RiskfreeRate is not None and q is None:\n",
    "        q = (r - d) / (u - d)\n",
    "    \n",
    "    coupon_ts[:,TimetoMaturity] = FaceValue * (1 + couponRate)\n",
    "    for i in range(TimetoMaturity-1, -1, -1):\n",
    "        for j in range(i+1):\n",
    "            coupon_ts[j, i] = (q * coupon_ts[j, i+1] + (1-q) * coupon_ts[j+1, i+1]) / (1 + term_structure[j, i]) + FaceValue * couponRate\n",
    "    return coupon_ts\n",
    "\n",
    "\n",
    "def price_ZCB(r0, u, d, TimetoMaturity, FaceValue):\n",
    "    \n",
    "    ZCB = ZCB_term_structure(r0, u, d, TimetoMaturity)\n",
    "    return FaceValue*ZCB[0,0]\n",
    "\n",
    "def price_futures(r0, u, d, FuturesTime, TimetoMaturity, FaceValue, q = 0.5, couponRate = 0):\n",
    "    if FuturesTime > TimetoMaturity:\n",
    "        raise ValueError(\"FuturesTime cannot be greater than TimetoMaturity\")\n",
    "    bond = coupon_bond_term_structure(r0, u, d, TimetoMaturity, FaceValue, couponRate)\n",
    "    Futures = np.zeros((FuturesTime+1, FuturesTime+1))\n",
    "    for j in range(FuturesTime+1):\n",
    "        Futures[j, FuturesTime] = bond[j, FuturesTime] - couponRate*FaceValue\n",
    "    for i in range(FuturesTime-1, -1, -1):\n",
    "        for j in range(i+1):\n",
    "            Futures[j, i] = (q * Futures[j, i+1] + (1-q) * Futures[j+1, i+1])\n",
    "    return Futures[0,0]\n",
    "\n",
    "def price_forwards(r0, u, d, ForwardTime, TimetoMaturity, FaceValue, q = 0.5, couponRate = 0):\n",
    "    if ForwardTime > TimetoMaturity:\n",
    "        raise ValueError(\"ForwardTime cannot be greater than TimetoMaturity\")\n",
    "    bond = coupon_bond_term_structure(r0, u, d, TimetoMaturity, FaceValue, couponRate)\n",
    "    term_structure = build_term_structure(r0, u, d, ForwardTime)\n",
    "    Forward = np.zeros((ForwardTime+1, ForwardTime+1))\n",
    "    for j in range(ForwardTime+1):\n",
    "        Forward[j, ForwardTime] = bond[j, ForwardTime] - couponRate*FaceValue\n",
    "    for i in range(ForwardTime-1, -1, -1):\n",
    "        for j in range(i+1):\n",
    "            Forward[j, i] = (q * Forward[j, i+1] + (1-q) * Forward[j+1, i+1]) / (1 + term_structure[j, i])\n",
    "    return 100 * Forward[0,0]/price_ZCB(r0, u, d, ForwardTime, FaceValue)\n",
    "\n",
    "def price_swaps(r0, u, d, TimetoMaturity, FixedRate, q = 0.5):\n",
    "    swap = np.zeros((TimetoMaturity, TimetoMaturity))\n",
    "    term_structure = build_term_structure(r0, u, d, TimetoMaturity-1)\n",
    "    for j in range(TimetoMaturity):\n",
    "        swap[j, TimetoMaturity-1] = (term_structure[j,TimetoMaturity-1] - FixedRate)/(1 + term_structure[j,TimetoMaturity-1])\n",
    "    for i in range(TimetoMaturity-2, -1, -1):\n",
    "        for j in range(i+1):\n",
    "            swap[j, i] = ( term_structure[j,i] - FixedRate + q * swap[j, i+1] + (1-q) * swap[j+1, i+1]) / (1 + term_structure[j, i])\n",
    "    return swap[0,0]\n",
    "\n",
    "def price_swaption(r0, u, d, SwaptionTime, TimetoMaturity, FixedRate, redemptionType = \"European\", q = 0.5):\n",
    "    swap = np.zeros((TimetoMaturity, TimetoMaturity))\n",
    "    term_structure = build_term_structure(r0, u, d, TimetoMaturity-1)\n",
    "    for j in range(TimetoMaturity):\n",
    "        swap[j, TimetoMaturity-1] = (term_structure[j,TimetoMaturity-1] - FixedRate)/(1 + term_structure[j,TimetoMaturity-1])\n",
    "    for i in range(TimetoMaturity-2, -1, -1):\n",
    "        for j in range(i+1):\n",
    "            swap[j, i] = ( term_structure[j,i] - FixedRate + q * swap[j, i+1] + (1-q) * swap[j+1, i+1]) / (1 + term_structure[j, i])\n",
    "    swaption = np.zeros((SwaptionTime+1, SwaptionTime+1))\n",
    "    for j in range(SwaptionTime+1):\n",
    "        swaption[j, SwaptionTime] = max(0, swap[j, SwaptionTime])\n",
    "    for i in range(SwaptionTime-1, -1, -1):\n",
    "        for j in range(i+1):\n",
    "            if redemptionType == \"European\":\n",
    "                swaption[j, i] = (1/(1+term_structure[j, i])) * (q * swaption[j, i+1] + (1-q) * swaption[j+1, i+1])\n",
    "            elif redemptionType == \"American\":\n",
    "                swaption[j, i] = max(swap[j, i], (1/(1+term_structure[j, i])) * (q * swaption[j, i+1] + (1-q) * swaption[j+1, i+1]))\n",
    "    return swaption[0,0]\n",
    "\n",
    "def elementary_prices_lattice(r0, u, d, n, q = 0.5):\n",
    "    term_structure = build_term_structure(r0, u, d, n)\n",
    "    elementary = np.zeros((n+1, n+1))\n",
    "    elementary[0,0] = 1\n",
    "    for i in range(1, n+1):\n",
    "        elementary[0,i] = q * elementary[0,i-1] / (1 + term_structure[0,i-1])\n",
    "        elementary[i,i] = (1-q) * elementary[i-1,i-1] / (1 + term_structure[i-1,i-1])\n",
    "        for j in range(1, i):\n",
    "            elementary[j,i] = q * elementary[j,i-1] / (1 + term_structure[j,i-1]) + (1-q) * elementary[j-1,i-1] / (1 + term_structure[j-1,i-1])\n",
    "\n",
    "    return elementary"
   ]
  },
  {
   "cell_type": "code",
   "execution_count": 19,
   "metadata": {},
   "outputs": [],
   "source": [
    "# Parameters\n",
    "S0 = 100  # Initial stock price\n",
    "K = 100   # Strike price\n",
    "r = 0.05  # Risk-free rate\n",
    "u = 1.1   # Up factor\n",
    "d = 0.9   # Down factor\n",
    "n = 9     # Number of periods\n"
   ]
  },
  {
   "cell_type": "code",
   "execution_count": 20,
   "metadata": {},
   "outputs": [
    {
     "name": "stdout",
     "output_type": "stream",
     "text": [
      "\n",
      "Term Structure of Interest Rates:\n",
      "[[0.05       0.055      0.0605     0.06655    0.073205   0.0805255  0.08857805 0.09743586 0.10717944 0.11789738]\n",
      " [0.         0.045      0.0495     0.05445    0.059895   0.0658845  0.07247295 0.07972025 0.08769227 0.0964615 ]\n",
      " [0.         0.         0.0405     0.04455    0.049005   0.0539055  0.05929605 0.06522566 0.07174822 0.07892304]\n",
      " [0.         0.         0.         0.03645    0.040095   0.0441045  0.04851495 0.05336645 0.05870309 0.0645734 ]\n",
      " [0.         0.         0.         0.         0.032805   0.0360855  0.03969405 0.04366346 0.0480298  0.05283278]\n",
      " [0.         0.         0.         0.         0.         0.0295245  0.03247695 0.03572465 0.03929711 0.04322682]\n",
      " [0.         0.         0.         0.         0.         0.         0.02657205 0.02922926 0.03215218 0.0353674 ]\n",
      " [0.         0.         0.         0.         0.         0.         0.         0.02391485 0.02630633 0.02893696]\n",
      " [0.         0.         0.         0.         0.         0.         0.         0.         0.02152336 0.0236757 ]\n",
      " [0.         0.         0.         0.         0.         0.         0.         0.         0.         0.01937102]]\n",
      "\n",
      "Zero-Coupon Bond Term Structure:\n",
      "[[0.61621958 0.61965082 0.62676402 0.63838111 0.65555982 0.67968561 0.71260629 0.75683224 0.8158394  0.89453649 1.        ]\n",
      " [0.         0.6744103  0.68069922 0.69098538 0.70617093 0.72741454 0.75622898 0.7946229  0.84531027 0.91202473 1.        ]\n",
      " [0.         0.         0.7288183  0.73780227 0.75104814 0.76951953 0.79445079 0.82744735 0.87063059 0.92685016 1.        ]\n",
      " [0.         0.         0.         0.77886862 0.79029459 0.80618698 0.82755094 0.85566983 0.8922057  0.9393434  1.        ]\n",
      " [0.         0.         0.         0.         0.82422216 0.83777592 0.85593596 0.87972924 0.91046207 0.94981845 1.        ]\n",
      " [0.         0.         0.         0.         0.         0.86474562 0.88007901 0.90009381 0.92582045 0.95856431 1.        ]\n",
      " [0.         0.         0.         0.         0.         0.         0.9004746  0.91722878 0.93867823 0.96584073 1.        ]\n",
      " [0.         0.         0.         0.         0.         0.         0.         0.93157533 0.94939915 0.97187684 1.        ]\n",
      " [0.         0.         0.         0.         0.         0.         0.         0.         0.95830846 0.97687188 1.        ]\n",
      " [0.         0.         0.         0.         0.         0.         0.         0.         0.         0.98099708 1.        ]\n",
      " [0.         0.         0.         0.         0.         0.         0.         0.         0.         0.         1.        ]]\n",
      "\n",
      "Price of a Zero-Coupon Bond with 10 periods to maturity:\n",
      "61.62195811754153\n"
     ]
    }
   ],
   "source": [
    "np.set_printoptions(linewidth=np.inf)\n",
    "\n",
    "# Build term structure of interest rates\n",
    "r0 = 0.05  # Initial interest rate\n",
    "term_structure = build_term_structure(r0, u, d, n)\n",
    "print(\"\\nTerm Structure of Interest Rates:\")\n",
    "print(term_structure)\n",
    "\n",
    "# Build ZCB term structure\n",
    "ZCB = ZCB_term_structure(r0, u, d, 10)\n",
    "print(\"\\nZero-Coupon Bond Term Structure:\")\n",
    "print(ZCB)\n",
    "\n",
    "print(\"\\nPrice of a Zero-Coupon Bond with 10 periods to maturity:\")\n",
    "print(price_ZCB(r0, u, d, 10, 100))\n"
   ]
  },
  {
   "cell_type": "code",
   "execution_count": 36,
   "metadata": {},
   "outputs": [
    {
     "name": "stdout",
     "output_type": "stream",
     "text": [
      "\n",
      "Pricing european call option on ZCB:\n",
      "[[2.96947445 1.55807206 0.        ]\n",
      " [0.         4.73721378 3.34985493]\n",
      " [0.         0.         6.63619172]]\n",
      "\n",
      "Pricing american put option on ZCB:\n",
      "[[10.78225967  8.73199897  4.92365272  0.        ]\n",
      " [ 0.          3.56639153  0.65014507  0.        ]\n",
      " [ 0.          0.          0.          0.        ]\n",
      " [ 0.          0.          0.          0.        ]]\n"
     ]
    }
   ],
   "source": [
    "option_tree = build_option_tree(100, 84, 2, 4, 0.06, 1.25, 0.9, option_type='call', redemption_type = \"European\", q = 0.5)\n",
    "print(\"\\nPricing european call option on ZCB:\")\n",
    "print(option_tree)\n",
    "\n",
    "option_tree = build_option_tree(100, 88, 3, 4, 0.06, 1.25, 0.9, option_type='put', redemption_type = \"American\", q = 0.5)\n",
    "print(\"\\nPricing american put option on ZCB:\")\n",
    "print(option_tree)"
   ]
  },
  {
   "cell_type": "code",
   "execution_count": 36,
   "metadata": {},
   "outputs": [
    {
     "name": "stdout",
     "output_type": "stream",
     "text": [
      "\n",
      "Price of a Futures contract with 4 periods to maturity:\n",
      "[[74.82458063 72.71889524 70.47374549 68.08653747 65.55598201]\n",
      " [ 0.         76.93026602 74.96404499 72.86095351 70.61709293]\n",
      " [ 0.          0.         78.89648704 77.06713648 75.10481409]\n",
      " [ 0.          0.          0.         80.72583761 79.02945886]\n",
      " [ 0.          0.          0.          0.         82.42221636]]\n",
      "\n",
      "Price of a Forward contract with 4 periods to maturity:\n",
      "74.8848449384484\n",
      "\n",
      "Price of a Forward contract with 4 periods to maturity:\n",
      "74.88484493844841\n"
     ]
    }
   ],
   "source": [
    "r0=0.05\n",
    "u=1.1\n",
    "d=0.9\n",
    "# Pricing of forwards and futures\n",
    "print(\"\\nPrice of a Futures contract with 4 periods to maturity:\")\n",
    "print(price_futures(r0, u, d, 4, 10, 100))\n",
    "print(\"\\nPrice of a Forward contract with 4 periods to maturity:\")\n",
    "print(price_forwards(r0, u, d, 4, 10, 100))\n",
    "print(\"\\nPrice of a Forward contract with 4 periods to maturity:\")\n",
    "print(price_forwards_coupons(r0, u, d, 4, 10, 100))"
   ]
  },
  {
   "cell_type": "code",
   "execution_count": null,
   "metadata": {},
   "outputs": [
    {
     "data": {
      "text/plain": [
       "np.float64(101.6554)"
      ]
     },
     "execution_count": 28,
     "metadata": {},
     "output_type": "execute_result"
    }
   ],
   "source": [
    "coupon_bond_term_structure(0.06, 1.25, 0.9, 6, 100, 0.1).round(4)"
   ]
  },
  {
   "cell_type": "code",
   "execution_count": 35,
   "metadata": {},
   "outputs": [
    {
     "name": "stdout",
     "output_type": "stream",
     "text": [
      "\n",
      "Price of a Futures contract with 4 periods to maturity:\n",
      "[[85.41666439 83.32314982 80.96855024 78.33180561 75.39367722]\n",
      " [ 0.         87.51017896 85.6777494  83.60529487 81.269934  ]\n",
      " [ 0.          0.         89.34260852 87.75020392 85.94065574]\n",
      " [ 0.          0.          0.         90.93501312 89.55975211]\n",
      " [ 0.          0.          0.          0.         92.31027414]]\n",
      "\n",
      "Price of a Forward contract with 4 periods to maturity:\n",
      "85.55286464630011\n"
     ]
    }
   ],
   "source": [
    "print(\"\\nPrice of a Futures contract with 4 periods to maturity:\")\n",
    "print(price_futures(r0=0.06, u= 1.25, d= 0.9,FuturesTime= 4,TimetoMaturity= 6, FaceValue= 100))\n",
    "print(\"\\nPrice of a Forward contract with 4 periods to maturity:\")\n",
    "print(price_forwards_coupons(r0=0.06, u= 1.25, d= 0.9,ForwardTime= 4,TimetoMaturity= 6, FaceValue= 100))"
   ]
  },
  {
   "cell_type": "code",
   "execution_count": null,
   "metadata": {},
   "outputs": [
    {
     "name": "stdout",
     "output_type": "stream",
     "text": [
      "\n",
      "Price of a Swap with 6 periods to maturity:\n",
      "0.09900442703151374\n",
      "\n",
      "Price of a Swaption with 3 periods to maturity:\n",
      "0.06197180915914935\n"
     ]
    }
   ],
   "source": [
    "## Swaps and Swaptions Pricing\n",
    "\n",
    "print(\"\\nPrice of a Swap with 6 periods to maturity:\")\n",
    "print(price_swaps(r0 = 0.06, u = 1.25, d = 0.9, TimetoMaturity = 6, FixedRate = 0.05))\n",
    "print(\"\\nPrice of a Swaption with 3 periods of swaption time for a swap of 6 periods to maturity:\")\n",
    "print(price_swaption(r0 = 0.06, u = 1.25, d = 0.9, SwaptionTime = 3, TimetoMaturity = 6, FixedRate = 0.05))"
   ]
  },
  {
   "cell_type": "code",
   "execution_count": 45,
   "metadata": {},
   "outputs": [
    {
     "data": {
      "image/png": "[encoded data removed]",
      "text/plain": [
       "<Figure size 1000x600 with 1 Axes>"
      ]
     },
     "metadata": {},
     "output_type": "display_data"
    }
   ],
   "source": [
    "\n",
    "\n",
    "\n",
    "# Plotting the term structure of interest rates\n",
    "plt.figure(figsize=(10, 6))\n",
    "for i in range(n+1):\n",
    "    for j in range(i+1):\n",
    "        plt.scatter(i, term_structure[j, i], color='purple')\n",
    "        plt.text(i, term_structure[j, i], f'{term_structure[j, i]:.2f}', ha='center', va='bottom')\n",
    "plt.title('Term Structure of Interest Rates')\n",
    "plt.xlabel('Time Step')\n",
    "plt.ylabel('Interest Rate')\n",
    "plt.grid()\n",
    "plt.show()"
   ]
  },
  {
   "cell_type": "markdown",
   "metadata": {},
   "source": [
    "## Elementary price lattice"
   ]
  },
  {
   "cell_type": "code",
   "execution_count": 52,
   "metadata": {},
   "outputs": [
    {
     "name": "stdout",
     "output_type": "stream",
     "text": [
      "\n",
      "Elementary Prices Lattice:\n",
      "[[1.00000000e+00 4.71698113e-01 2.19394471e-01 1.00294615e-01 4.48871006e-02 1.95759757e-02 8.27313213e-03 3.36612190e-03 1.30865248e-03 4.81962880e-04 1.66534650e-04]\n",
      " [0.00000000e+00 4.71698113e-01 4.43160180e-01 3.07863786e-01 1.86841584e-01 1.04083830e-01 5.42532193e-02 2.66548649e-02 1.23596497e-02 5.39636752e-03 2.20772917e-03]\n",
      " [0.00000000e+00 0.00000000e+00 2.23765708e-01 3.14266533e-01 2.90088602e-01 2.19315221e-01 1.46131169e-01 8.86044642e-02 4.96311913e-02 2.58488700e-02 1.25339974e-02]\n",
      " [0.00000000e+00 0.00000000e+00 0.00000000e+00 1.06697362e-01 1.99247117e-01 2.29266379e-01 2.07450993e-01 1.60877412e-01 1.11257862e-01 7.00122967e-02 4.04932336e-02]\n",
      " [0.00000000e+00 0.00000000e+00 0.00000000e+00 0.00000000e+00 5.11129986e-02 1.19047559e-01 1.64032044e-01 1.72825278e-01 1.52920685e-01 1.18834018e-01 8.30449145e-02]\n",
      " [0.00000000e+00 0.00000000e+00 0.00000000e+00 0.00000000e+00 0.00000000e+00 2.45885466e-02 6.86057318e-02 1.10111716e-01 1.32410940e-01 1.31676867e-01 1.13641429e-01]\n",
      " [0.00000000e+00 0.00000000e+00 0.00000000e+00 0.00000000e+00 0.00000000e+00 0.00000000e+00 1.18735988e-02 3.86014746e-02 7.07288575e-02 9.56067799e-02 1.05597764e-01]\n",
      " [0.00000000e+00 0.00000000e+00 0.00000000e+00 0.00000000e+00 0.00000000e+00 0.00000000e+00 0.00000000e+00 5.75334558e-03 2.13573558e-02 4.39949751e-02 6.60542622e-02]\n",
      " [0.00000000e+00 0.00000000e+00 0.00000000e+00 0.00000000e+00 0.00000000e+00 0.00000000e+00 0.00000000e+00 0.00000000e+00 2.79642160e-03 1.16718822e-02 2.67068643e-02]\n",
      " [0.00000000e+00 0.00000000e+00 0.00000000e+00 0.00000000e+00 0.00000000e+00 0.00000000e+00 0.00000000e+00 0.00000000e+00 0.00000000e+00 1.36300701e-03 6.31944187e-03]\n",
      " [0.00000000e+00 0.00000000e+00 0.00000000e+00 0.00000000e+00 0.00000000e+00 0.00000000e+00 0.00000000e+00 0.00000000e+00 0.00000000e+00 0.00000000e+00 6.66021680e-04]]\n"
     ]
    }
   ],
   "source": [
    "# Elementary price lattice:\n",
    "\n",
    "elementary = elementary_prices_lattice(r0 = 0.06, u = 1.25, d = 0.9, n = 10)\n",
    "print(\"\\nElementary Prices Lattice:\")\n",
    "print(elementary)"
   ]
  },
  {
   "cell_type": "markdown",
   "metadata": {},
   "source": [
    "this pricing can be then used to calculate value of any cash flow that is received at a particular time period."
   ]
  },
  {
   "cell_type": "code",
   "execution_count": null,
   "metadata": {},
   "outputs": [],
   "source": []
  }
 ],
 "metadata": {
  "kernelspec": {
   "display_name": "Python 3",
   "language": "python",
   "name": "python3"
  },
  "language_info": {
   "codemirror_mode": {
    "name": "ipython",
    "version": 3
   },
   "file_extension": ".py",
   "mimetype": "text/x-python",
   "name": "python",
   "nbconvert_exporter": "python",
   "pygments_lexer": "ipython3",
   "version": "3.13.2"
  }
 },
 "nbformat": 4,
 "nbformat_minor": 2
}
